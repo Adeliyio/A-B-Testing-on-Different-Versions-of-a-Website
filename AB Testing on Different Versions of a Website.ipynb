{
 "cells": [
  {
   "cell_type": "markdown",
   "id": "8f04a2c2",
   "metadata": {},
   "source": [
    "### Import the Relevant Libraries"
   ]
  },
  {
   "cell_type": "code",
   "execution_count": 1,
   "id": "39d873c0",
   "metadata": {},
   "outputs": [],
   "source": [
    "import pandas as pd\n",
    "import numpy as np\n",
    "import seaborn as sns\n",
    "import matplotlib.pyplot as plt\n",
    "from scipy.stats import chi2_contingency\n",
    "from statsmodels.stats.proportion import proportions_ztest\n",
    "import datetime\n",
    "import warnings\n",
    "warnings.filterwarnings('ignore')"
   ]
  },
  {
   "cell_type": "markdown",
   "id": "46cce62a",
   "metadata": {},
   "source": [
    "\n",
    "### Import Libraries and Load Dataset"
   ]
  },
  {
   "cell_type": "code",
   "execution_count": 4,
   "id": "8d8c9de6",
   "metadata": {},
   "outputs": [
    {
     "name": "stdout",
     "output_type": "stream",
     "text": [
      "   user_id                   timestamp      group landing_page  converted\n",
      "0   851104  2017-01-21 22:11:48.556739    control     old_page          0\n",
      "1   804228  2017-01-12 08:01:45.159739    control     old_page          0\n",
      "2   661590  2017-01-11 16:55:06.154213  treatment     new_page          0\n",
      "3   853541  2017-01-08 18:28:03.143765  treatment     new_page          0\n",
      "4   864975  2017-01-21 01:52:26.210827    control     old_page          1\n"
     ]
    }
   ],
   "source": [
    "# Load the dataset from a CSV file\n",
    "df = pd.read_csv(r\"C:\\Users\\User\\Downloads\\ab_data.csv\")\n",
    "\n",
    "# Display the first few rows of the dataset\n",
    "print(df.head())\n"
   ]
  },
  {
   "cell_type": "markdown",
   "id": "c75c57fe",
   "metadata": {},
   "source": [
    "## Data Exploration and Pre-Processing"
   ]
  },
  {
   "cell_type": "code",
   "execution_count": 5,
   "id": "02b2b982",
   "metadata": {},
   "outputs": [
    {
     "data": {
      "text/plain": [
       "(294478, 5)"
      ]
     },
     "execution_count": 5,
     "metadata": {},
     "output_type": "execute_result"
    }
   ],
   "source": [
    "# Print the shape of the dataset\n",
    "df.shape"
   ]
  },
  {
   "cell_type": "code",
   "execution_count": null,
   "id": "85d915ec",
   "metadata": {},
   "outputs": [],
   "source": [
    "# Display concise summary information about the dataset\n",
    "df.info()"
   ]
  },
  {
   "cell_type": "code",
   "execution_count": 6,
   "id": "8166e19b",
   "metadata": {},
   "outputs": [
    {
     "data": {
      "text/plain": [
       "Index(['user_id', 'timestamp', 'group', 'landing_page', 'converted'], dtype='object')"
      ]
     },
     "execution_count": 6,
     "metadata": {},
     "output_type": "execute_result"
    }
   ],
   "source": [
    "# Print the column names of the dataset\n",
    "df.columns"
   ]
  },
  {
   "cell_type": "code",
   "execution_count": 7,
   "id": "40f31542",
   "metadata": {},
   "outputs": [
    {
     "data": {
      "text/plain": [
       "user_id         290584\n",
       "timestamp       294478\n",
       "group                2\n",
       "landing_page         2\n",
       "converted            2\n",
       "dtype: int64"
      ]
     },
     "execution_count": 7,
     "metadata": {},
     "output_type": "execute_result"
    }
   ],
   "source": [
    "# Check the number of unique values in each column\n",
    "df.nunique()"
   ]
  },
  {
   "cell_type": "code",
   "execution_count": 8,
   "id": "0d47b7d6",
   "metadata": {},
   "outputs": [
    {
     "name": "stdout",
     "output_type": "stream",
     "text": [
      "There are 0 duplicated values.\n"
     ]
    },
    {
     "data": {
      "text/html": [
       "<div>\n",
       "<style scoped>\n",
       "    .dataframe tbody tr th:only-of-type {\n",
       "        vertical-align: middle;\n",
       "    }\n",
       "\n",
       "    .dataframe tbody tr th {\n",
       "        vertical-align: top;\n",
       "    }\n",
       "\n",
       "    .dataframe thead th {\n",
       "        text-align: right;\n",
       "    }\n",
       "</style>\n",
       "<table border=\"1\" class=\"dataframe\">\n",
       "  <thead>\n",
       "    <tr style=\"text-align: right;\">\n",
       "      <th></th>\n",
       "      <th>user_id</th>\n",
       "      <th>timestamp</th>\n",
       "      <th>group</th>\n",
       "      <th>landing_page</th>\n",
       "      <th>converted</th>\n",
       "    </tr>\n",
       "  </thead>\n",
       "  <tbody>\n",
       "  </tbody>\n",
       "</table>\n",
       "</div>"
      ],
      "text/plain": [
       "Empty DataFrame\n",
       "Columns: [user_id, timestamp, group, landing_page, converted]\n",
       "Index: []"
      ]
     },
     "execution_count": 8,
     "metadata": {},
     "output_type": "execute_result"
    }
   ],
   "source": [
    "print(\"There are {} duplicated values.\".format(df.duplicated().sum()))\n",
    "df[df.duplicated(keep=False)].head(4)"
   ]
  },
  {
   "cell_type": "code",
   "execution_count": null,
   "id": "b83c3b6c",
   "metadata": {},
   "outputs": [],
   "source": [
    "#new_data = df.drop_duplicates()\n",
    "#new_data"
   ]
  },
  {
   "cell_type": "code",
   "execution_count": null,
   "id": "125debfa",
   "metadata": {},
   "outputs": [],
   "source": [
    "#new_data.duplicated().sum()"
   ]
  },
  {
   "cell_type": "code",
   "execution_count": 10,
   "id": "f4626b47",
   "metadata": {},
   "outputs": [
    {
     "name": "stdout",
     "output_type": "stream",
     "text": [
      "user_id          int64\n",
      "timestamp       object\n",
      "group           object\n",
      "landing_page    object\n",
      "converted        int64\n",
      "dtype: object\n"
     ]
    }
   ],
   "source": [
    "# Check the data types of each column\n",
    "data_types = df.dtypes\n",
    "print(data_types)"
   ]
  },
  {
   "cell_type": "code",
   "execution_count": 11,
   "id": "2493ec15",
   "metadata": {},
   "outputs": [
    {
     "data": {
      "text/plain": [
       "user_id         0\n",
       "timestamp       0\n",
       "group           0\n",
       "landing_page    0\n",
       "converted       0\n",
       "dtype: int64"
      ]
     },
     "execution_count": 11,
     "metadata": {},
     "output_type": "execute_result"
    }
   ],
   "source": [
    "df.isnull().sum()"
   ]
  },
  {
   "cell_type": "code",
   "execution_count": 14,
   "id": "e0a994e0",
   "metadata": {},
   "outputs": [
    {
     "name": "stdout",
     "output_type": "stream",
     "text": [
      "<class 'pandas.core.frame.DataFrame'>\n",
      "RangeIndex: 294478 entries, 0 to 294477\n",
      "Data columns (total 5 columns):\n",
      " #   Column        Non-Null Count   Dtype \n",
      "---  ------        --------------   ----- \n",
      " 0   user_id       294478 non-null  int64 \n",
      " 1   timestamp     294478 non-null  object\n",
      " 2   group         294478 non-null  object\n",
      " 3   landing_page  294478 non-null  object\n",
      " 4   converted     294478 non-null  int64 \n",
      "dtypes: int64(2), object(3)\n",
      "memory usage: 11.2+ MB\n"
     ]
    }
   ],
   "source": [
    "df.info()"
   ]
  },
  {
   "cell_type": "code",
   "execution_count": 15,
   "id": "ec632e05",
   "metadata": {},
   "outputs": [
    {
     "data": {
      "text/html": [
       "<div>\n",
       "<style scoped>\n",
       "    .dataframe tbody tr th:only-of-type {\n",
       "        vertical-align: middle;\n",
       "    }\n",
       "\n",
       "    .dataframe tbody tr th {\n",
       "        vertical-align: top;\n",
       "    }\n",
       "\n",
       "    .dataframe thead th {\n",
       "        text-align: right;\n",
       "    }\n",
       "</style>\n",
       "<table border=\"1\" class=\"dataframe\">\n",
       "  <thead>\n",
       "    <tr style=\"text-align: right;\">\n",
       "      <th></th>\n",
       "      <th>user_id</th>\n",
       "      <th>converted</th>\n",
       "    </tr>\n",
       "  </thead>\n",
       "  <tbody>\n",
       "    <tr>\n",
       "      <th>count</th>\n",
       "      <td>294478.000000</td>\n",
       "      <td>294478.000000</td>\n",
       "    </tr>\n",
       "    <tr>\n",
       "      <th>mean</th>\n",
       "      <td>787974.124733</td>\n",
       "      <td>0.119659</td>\n",
       "    </tr>\n",
       "    <tr>\n",
       "      <th>std</th>\n",
       "      <td>91210.823776</td>\n",
       "      <td>0.324563</td>\n",
       "    </tr>\n",
       "    <tr>\n",
       "      <th>min</th>\n",
       "      <td>630000.000000</td>\n",
       "      <td>0.000000</td>\n",
       "    </tr>\n",
       "    <tr>\n",
       "      <th>25%</th>\n",
       "      <td>709032.250000</td>\n",
       "      <td>0.000000</td>\n",
       "    </tr>\n",
       "    <tr>\n",
       "      <th>50%</th>\n",
       "      <td>787933.500000</td>\n",
       "      <td>0.000000</td>\n",
       "    </tr>\n",
       "    <tr>\n",
       "      <th>75%</th>\n",
       "      <td>866911.750000</td>\n",
       "      <td>0.000000</td>\n",
       "    </tr>\n",
       "    <tr>\n",
       "      <th>max</th>\n",
       "      <td>945999.000000</td>\n",
       "      <td>1.000000</td>\n",
       "    </tr>\n",
       "  </tbody>\n",
       "</table>\n",
       "</div>"
      ],
      "text/plain": [
       "             user_id      converted\n",
       "count  294478.000000  294478.000000\n",
       "mean   787974.124733       0.119659\n",
       "std     91210.823776       0.324563\n",
       "min    630000.000000       0.000000\n",
       "25%    709032.250000       0.000000\n",
       "50%    787933.500000       0.000000\n",
       "75%    866911.750000       0.000000\n",
       "max    945999.000000       1.000000"
      ]
     },
     "execution_count": 15,
     "metadata": {},
     "output_type": "execute_result"
    }
   ],
   "source": [
    "df.describe()"
   ]
  },
  {
   "cell_type": "code",
   "execution_count": 16,
   "id": "d41c42cb",
   "metadata": {},
   "outputs": [
    {
     "name": "stdout",
     "output_type": "stream",
     "text": [
      "21 days 23:59:49.081927\n"
     ]
    }
   ],
   "source": [
    "# Calculate the range of dates in the dataset\n",
    "date_range = pd.to_datetime(df.timestamp.max()) - pd.to_datetime(df.timestamp.min())\n",
    "print(date_range)"
   ]
  },
  {
   "cell_type": "code",
   "execution_count": 22,
   "id": "fe8f12e4",
   "metadata": {},
   "outputs": [
    {
     "data": {
      "image/png": "[encoded data removed]",
      "text/plain": [
       "<Figure size 640x480 with 1 Axes>"
      ]
     },
     "metadata": {},
     "output_type": "display_data"
    }
   ],
   "source": [
    "conversion_counts = df['converted'].value_counts()\n",
    "\n",
    "plt.bar(conversion_counts.index, conversion_counts.values)\n",
    "plt.xlabel('Conversion')\n",
    "plt.ylabel('Frequency')\n",
    "plt.title('Frequency of Conversion')\n",
    "plt.xticks([0, 1], ['Not Converted', 'Converted'])\n",
    "plt.show()\n"
   ]
  },
  {
   "cell_type": "code",
   "execution_count": 20,
   "id": "37ad6e48",
   "metadata": {},
   "outputs": [
    {
     "data": {
      "image/png": "[encoded data removed]",
      "text/plain": [
       "<Figure size 640x480 with 1 Axes>"
      ]
     },
     "metadata": {},
     "output_type": "display_data"
    }
   ],
   "source": [
    "df['timestamp'] = pd.to_datetime(df['timestamp'])\n",
    "df['hour'] = df['timestamp'].dt.hour\n",
    "\n",
    "conversion_by_hour = df.groupby('hour')['converted'].mean()\n",
    "\n",
    "plt.plot(conversion_by_hour.index, conversion_by_hour.values)\n",
    "plt.xlabel('Hour of the Day')\n",
    "plt.ylabel('Conversion Rate')\n",
    "plt.title('Conversion Rate by Hour of the Day')\n",
    "plt.show()\n"
   ]
  },
  {
   "cell_type": "code",
   "execution_count": 23,
   "id": "c25927c6",
   "metadata": {},
   "outputs": [
    {
     "data": {
      "image/png": "[encoded data removed]",
      "text/plain": [
       "<Figure size 640x480 with 1 Axes>"
      ]
     },
     "metadata": {},
     "output_type": "display_data"
    }
   ],
   "source": [
    "conversion_counts_by_group = df.groupby('group')['converted'].value_counts(normalize=True).unstack()\n",
    "\n",
    "conversion_counts_by_group.plot(kind='bar', stacked=True)\n",
    "plt.xlabel('Group')\n",
    "plt.ylabel('Proportion of Users')\n",
    "plt.title('Conversion Rate by Group')\n",
    "plt.xticks(rotation=0)\n",
    "plt.legend(title='Conversion', labels=['Not Converted', 'Converted'])\n",
    "plt.show()\n"
   ]
  },
  {
   "cell_type": "markdown",
   "id": "a8ac7190",
   "metadata": {},
   "source": [
    "### Formulate Hypotheses:"
   ]
  },
  {
   "cell_type": "markdown",
   "id": "8ea9251f",
   "metadata": {},
   "source": [
    "#### Ho:The null hypothesis typically states that there is no difference or no effect between the control and treatment groups. In the context of an A/B test, it often asserts that the treatment (new feature, new design, etc.) has no impact on the outcome compared to the control (existing feature, old design, etc.).\n",
    "#### H1: The alternative hypothesis contradicts the null hypothesis and typically states that there is a significant difference or effect between the control and treatment groups. In the context of an A/B test, it asserts that the treatment has a positive or negative impact on the outcome compared to the control.\n",
    "\n",
    "#### significance level: 5%"
   ]
  },
  {
   "cell_type": "markdown",
   "id": "e2661846",
   "metadata": {},
   "source": [
    "### Calculate Test Statistics: "
   ]
  },
  {
   "cell_type": "markdown",
   "id": "7fc5171f",
   "metadata": {},
   "source": [
    "#### Z-test for Proportions:"
   ]
  },
  {
   "cell_type": "code",
   "execution_count": 24,
   "id": "cbeac6b3",
   "metadata": {},
   "outputs": [
    {
     "name": "stdout",
     "output_type": "stream",
     "text": [
      "Z-statistic: 1.2369217547321678\n",
      "P-value: 0.21611613269757501\n"
     ]
    }
   ],
   "source": [
    "# Calculate conversion counts for control and treatment groups\n",
    "control_converted = df[df['group'] == 'control']['converted'].sum()\n",
    "treatment_converted = df[df['group'] == 'treatment']['converted'].sum()\n",
    "\n",
    "# Calculate sample sizes for control and treatment groups\n",
    "control_total = len(df[df['group'] == 'control'])\n",
    "treatment_total = len(df[df['group'] == 'treatment'])\n",
    "\n",
    "# Perform Z-test for proportions\n",
    "z_stat, p_value = proportions_ztest([control_converted, treatment_converted], [control_total, treatment_total])\n",
    "\n",
    "print(\"Z-statistic:\", z_stat)\n",
    "print(\"P-value:\", p_value)"
   ]
  },
  {
   "cell_type": "markdown",
   "id": "7dfb7a20",
   "metadata": {},
   "source": [
    "#### Chi-square Test:"
   ]
  },
  {
   "cell_type": "code",
   "execution_count": 25,
   "id": "82ac9fd4",
   "metadata": {},
   "outputs": [
    {
     "name": "stdout",
     "output_type": "stream",
     "text": [
      "Chi-square statistic: 1.5159618356336582\n",
      "P-value: 0.2182316121631168\n"
     ]
    }
   ],
   "source": [
    "# Create a contingency table\n",
    "contingency_table = pd.crosstab(df['group'], df['converted'])\n",
    "\n",
    "# Perform chi-square test\n",
    "chi2, p_value, _, _ = chi2_contingency(contingency_table)\n",
    "\n",
    "print(\"Chi-square statistic:\", chi2)\n",
    "print(\"P-value:\", p_value)"
   ]
  },
  {
   "cell_type": "markdown",
   "id": "d7e63ecf",
   "metadata": {},
   "source": [
    "#### For the Z-test for proportions:\n",
    "#### Z-statistic: 1.2369\n",
    "#### P-value: 0.2161\n",
    "#### Since the p-value (0.2161) is greater than the significance level, we fail to reject the null hypothesis There is insufficient evidence to suggest a significant difference in conversion rates between the control and treatment groups."
   ]
  },
  {
   "cell_type": "markdown",
   "id": "3b48938f",
   "metadata": {},
   "source": [
    "#### For the chi-square test:\n",
    "#### Chi-square statistic: 1.5160\n",
    "#### P-value: 0.2182\n",
    "#### Similar to the Z-test, the p-value (0.2182) is greater than the significance level , we fail to reject the null hypothesis There is insufficient evidence to suggest a significant difference in conversion rates between the control and treatment groups."
   ]
  },
  {
   "cell_type": "markdown",
   "id": "385d445c",
   "metadata": {},
   "source": [
    "#### Since both tests yield p-values greater than 0.05, we cannot conclude that there is a significant difference in conversion rates between the control and treatment groups at the 0.05 significance level."
   ]
  }
 ],
 "metadata": {
  "kernelspec": {
   "display_name": "Python 3 (ipykernel)",
   "language": "python",
   "name": "python3"
  },
  "language_info": {
   "codemirror_mode": {
    "name": "ipython",
    "version": 3
   },
   "file_extension": ".py",
   "mimetype": "text/x-python",
   "name": "python",
   "nbconvert_exporter": "python",
   "pygments_lexer": "ipython3",
   "version": "3.9.13"
  }
 },
 "nbformat": 4,
 "nbformat_minor": 5
}
